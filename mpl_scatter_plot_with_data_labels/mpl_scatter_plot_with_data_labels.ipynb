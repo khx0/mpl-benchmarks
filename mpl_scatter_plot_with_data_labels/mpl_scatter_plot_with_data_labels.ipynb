{
 "cells": [
  {
   "cell_type": "markdown",
   "source": [
    "# Scatter plot with data labels"
   ],
   "metadata": {}
  },
  {
   "cell_type": "code",
   "execution_count": 1,
   "source": [
    "import os\n",
    "import platform\n",
    "import datetime\n",
    "import numpy as np\n",
    "import matplotlib as mpl\n",
    "from matplotlib import pyplot as plt"
   ],
   "outputs": [],
   "metadata": {}
  },
  {
   "cell_type": "code",
   "execution_count": 2,
   "source": [
    "print(mpl.__version__)"
   ],
   "outputs": [
    {
     "output_type": "stream",
     "name": "stdout",
     "text": [
      "3.4.2\n"
     ]
    }
   ],
   "metadata": {}
  },
  {
   "cell_type": "markdown",
   "source": [
    "**define plotting functions**"
   ],
   "metadata": {}
  },
  {
   "cell_type": "code",
   "execution_count": 14,
   "source": [
    "def str_format_power_of_ten(text: str) -> str:\n",
    "    '''\n",
    "    Assumes a scientific formatted input string of the type 1.27e-05\n",
    "    and will output $1.27 x 10^{-5}$ with proper power of ten formatting.\n",
    "    '''\n",
    "    index = text.index('e')\n",
    "    mantisse, exponent = text[:index], text[(index + 1):]\n",
    "    exponent = exponent.lstrip('0+') # strip learding plus sign and zeros from the exponent\n",
    "    label = mantisse + r'$ \\times\\mathdefault{10^{' +  exponent + '}}$'\n",
    "    return label"
   ],
   "outputs": [],
   "metadata": {}
  },
  {
   "cell_type": "code",
   "execution_count": 15,
   "source": [
    "def str_format_power_of_ten_exponent(text):\n",
    "    '''\n",
    "    Assumes a scientific formatted input string of the type 1.27e-05\n",
    "    and will output the exponent only, e.g. $x 10^{-5}$ with proper power of ten formatting.\n",
    "    '''\n",
    "    index = text.index('e')\n",
    "    exponent = text[(index + 1):]\n",
    "    label = r'$\\mathdefault{\\times \\, 10^{' +  exponent + '}}$'\n",
    "    return label"
   ],
   "outputs": [],
   "metadata": {}
  },
  {
   "cell_type": "code",
   "execution_count": 16,
   "source": [
    "def getFigureProps(width, height, lFrac = 0.17, rFrac = 0.9, bFrac = 0.17, tFrac = 0.9):\n",
    "    '''\n",
    "    True size scaling auxiliary function to setup mpl plots with a desired size.\n",
    "    Specify widht and height in cm.\n",
    "    lFrac = left fraction   in [0, 1]\n",
    "    rFrac = right fraction  in [0, 1]\n",
    "    bFrac = bottom fraction in [0, 1]\n",
    "    tFrac = top fraction    in [0, 1]\n",
    "    returns:\n",
    "        fWidth = figure width\n",
    "        fHeight = figure height\n",
    "    These figure width and height values can then be used to create a figure instance\n",
    "    of the desired size, such that the actual plotting canvas has the specified\n",
    "    target width and height, as provided by the input parameters of this function.\n",
    "    '''\n",
    "    axesWidth = width / 2.54    # convert to inches\n",
    "    axesHeight = height / 2.54  # convert to inches\n",
    "    fWidth = axesWidth / (rFrac - lFrac)\n",
    "    fHeight = axesHeight / (tFrac - bFrac)\n",
    "    return fWidth, fHeight, lFrac, rFrac, bFrac, tFrac"
   ],
   "outputs": [],
   "metadata": {}
  },
  {
   "cell_type": "code",
   "execution_count": 37,
   "source": [
    "def Plot(X, outname, outdir, pColors, titlestr = None,\n",
    "         grid = True, drawLegend = False, xFormat = None, yFormat = None, str_format_func = None,\n",
    "         savePDF = True, savePNG = False, datestamp = True):\n",
    "\n",
    "    mpl.rcParams['xtick.top'] = False\n",
    "    mpl.rcParams['xtick.bottom'] = True\n",
    "    mpl.rcParams['ytick.right'] = False\n",
    "    mpl.rcParams['xtick.direction'] = 'out'\n",
    "    mpl.rcParams['ytick.direction'] = 'in'\n",
    "\n",
    "    mpl.rc('font', **{'size': 10})\n",
    "    mpl.rc('legend', **{'fontsize': 9.0})\n",
    "    mpl.rc('axes', linewidth = 1.0)\n",
    "\n",
    "    mpl.rc('font', **{'family' : 'sans-serif', 'sans-serif' : ['Helvetica']})\n",
    "    mpl.rcParams['pdf.fonttype'] = 42\n",
    "    mpl.rcParams['text.usetex'] = False\n",
    "    mpl.rcParams['mathtext.fontset'] = 'cm'\n",
    "    mpl.rcParams['text.latex.preamble'] = \\\n",
    "        r'\\usepackage{cmbright}' + \\\n",
    "        r'\\usepackage{amsmath}'\n",
    "\n",
    "    ######################################################################################\n",
    "    # set up figure\n",
    "    fWidth, fHeight, lFrac, rFrac, bFrac, tFrac =\\\n",
    "        getFigureProps(width = 5.5, height = 4.5,\n",
    "                       lFrac = 0.18, rFrac = 0.94,\n",
    "                       bFrac = 0.20, tFrac = 0.90)\n",
    "    f, ax1 = plt.subplots(1)\n",
    "    f.set_size_inches(fWidth, fHeight)\n",
    "    f.subplots_adjust(left = lFrac, right = rFrac)\n",
    "    f.subplots_adjust(bottom = bFrac, top = tFrac)\n",
    "    ######################################################################################\n",
    "    labelfontsize = 8.0\n",
    "\n",
    "    for tick in ax1.xaxis.get_major_ticks():\n",
    "        tick.label.set_fontsize(labelfontsize)\n",
    "    for tick in ax1.yaxis.get_major_ticks():\n",
    "        tick.label.set_fontsize(labelfontsize)\n",
    "\n",
    "    ax1.tick_params('both', length = 3.5, width = 1.0, which = 'major', pad = 3.0)\n",
    "    ax1.tick_params('both', length = 2.0, width = 0.5, which = 'minor', pad = 3.0)\n",
    "\n",
    "    ax1.tick_params(axis = 'x', which = 'major', pad = 2.5)\n",
    "    ax1.tick_params(axis = 'y', which = 'major', pad = 2.5, zorder = 10)\n",
    "    ######################################################################################\n",
    "    # labeling\n",
    "    if titlestr:\n",
    "        plt.title(titlestr)\n",
    "    ax1.set_xlabel(r'x label', fontsize = 8.0)\n",
    "    ax1.set_ylabel(r'# of items', fontsize = 8.0)\n",
    "    ax1.xaxis.labelpad = 3.0\n",
    "    ax1.yaxis.labelpad = 3.0\n",
    "    ######################################################################################\n",
    "    # plotting\n",
    "\n",
    "    lineWidth = 1.0\n",
    "\n",
    "    ax1.scatter(X[:, 0], X[:, 1],\n",
    "                s = 20.0,\n",
    "                lw = lineWidth,\n",
    "                facecolor = pColors[0],\n",
    "                edgecolor = 'None',\n",
    "                zorder = 4,\n",
    "                clip_on = False)\n",
    "\n",
    "    ax1.plot(X[:, 0], X[:, 1],\n",
    "             color = pColors[0],\n",
    "             alpha = 1.0,\n",
    "             lw = lineWidth,\n",
    "             zorder = 2)\n",
    "\n",
    "    ######################################################################################\n",
    "    ######################################################################################\n",
    "    # offset text handling\n",
    "    ax1 = plt.gca()\n",
    "    ax1.ticklabel_format(axis = 'y', style = 'sci', scilimits = (0, 2))\n",
    "\n",
    "    f.savefig('./dummy_figure_TMP.svg')\n",
    "\n",
    "    offset = ax1.get_yaxis().get_offset_text()\n",
    "    ax1.yaxis.offsetText.set_visible(False)\n",
    "\n",
    "    powerLabel = str_format_power_of_ten_exponent(offset.get_text())\n",
    "\n",
    "    ax1.annotate(powerLabel,\n",
    "                 xy = (0.0, 1.02),\n",
    "                 xycoords = 'axes fraction',\n",
    "                 fontsize = 8.0,\n",
    "                 horizontalalignment = 'left')\n",
    "    os.remove('./dummy_figure_TMP.svg')\n",
    "    ######################################################################################\n",
    "    ######################################################################################\n",
    "\n",
    "    ######################################################################################\n",
    "    # legend\n",
    "    if drawLegend:\n",
    "        leg = ax1.legend(# bbox_to_anchor = [0.7, 0.8],\n",
    "                         # loc = 'upper left',\n",
    "                         handlelength = 2.0,\n",
    "                         scatterpoints = 1,\n",
    "                         markerscale = 1.0,\n",
    "                         ncol = 1)\n",
    "        leg.draw_frame(False)\n",
    "        plt.gca().add_artist(leg)\n",
    "\n",
    "        # set the linewidth of the legend object\n",
    "        for legobj in leg.legendHandles:\n",
    "            legobj.set_linewidth(2.5)\n",
    "\n",
    "    ######################################################################################\n",
    "    # set plot range\n",
    "    if xFormat:\n",
    "        major_x_ticks = np.arange(xFormat[2], xFormat[3], xFormat[4])\n",
    "        minor_x_ticks = np.arange(xFormat[2], xFormat[3], xFormat[5])\n",
    "        ax1.set_xticks(major_x_ticks)\n",
    "        ax1.set_xticks(minor_x_ticks, minor = True)\n",
    "        ax1.set_xlim(xFormat[0], xFormat[1])\n",
    "\n",
    "    if yFormat:\n",
    "        major_y_ticks = np.arange(yFormat[2], yFormat[3], yFormat[4])\n",
    "        minor_y_ticks = np.arange(yFormat[2], yFormat[3], yFormat[5])\n",
    "        ax1.set_yticks(major_y_ticks)\n",
    "        ax1.set_yticks(minor_y_ticks, minor = True)\n",
    "        ax1.set_ylim(yFormat[0], yFormat[1])\n",
    "\n",
    "    ###########################################################################\n",
    "    # clean tick label formatting\n",
    "    # Caution: Be sure you know what you are doing. Manual edits like this\n",
    "    # can cause a lot of headaches if used unaware.\n",
    "    # Also, when used in conjunction with scientific axis formatting, make\n",
    "    # sure to call this snippet after the offset text handling to set the\n",
    "    # scientific axis.\n",
    "    y_ticklabels = ax1.get_yticklabels() # must be called after f.savefig(...)\n",
    "    # y_ticklabels is a list\n",
    "    for y_tick in y_ticklabels:\n",
    "        tmp = float(y_tick.get_text())\n",
    "        if np.isclose(tmp, 0.0):\n",
    "            y_tick.set_text('0')\n",
    "        elif np.isclose(tmp, 1.0):\n",
    "            y_tick.set_text('1')\n",
    "    ax1.set_yticklabels(y_ticklabels)\n",
    "    ###########################################################################\n",
    "\n",
    "    ax1.set_axisbelow(False)\n",
    "\n",
    "    for spine in ax1.spines.values(): # ax1.spines is a dictionary\n",
    "        spine.set_zorder(10)\n",
    "\n",
    "    ###########################################################################\n",
    "    # data point labels (annotations)\n",
    "    # create data point labels using annotations\n",
    "    n_datapoints = X.shape[0]\n",
    "\n",
    "    ymin, ymax = ax1.get_ylim()\n",
    "    dy = np.abs(ymax - ymin) # y value span  \n",
    "    y_offset = 0.06 * dy # 6 per cent of y extent\n",
    "\n",
    "    for i in range(n_datapoints - 1):\n",
    "\n",
    "        label = f'{int(X[i, 1]):.2e}'\n",
    "        label = str_format_func(label)\n",
    "        ax1.annotate(label,\n",
    "                     xy = (X[i, 0], X[i, 1] - y_offset),\n",
    "                     xycoords = 'data',\n",
    "                     fontsize = 6.0,\n",
    "                     horizontalalignment = 'left',\n",
    "                     verticalalignment = 'center',\n",
    "                     zorder = 8,\n",
    "                     clip_on = False)\n",
    "\n",
    "    # manually set label for the last data point\n",
    "    label = f'{int(X[-1, 1]):.2e}'\n",
    "    label = str_format_func(label)\n",
    "    ax1.annotate(label,\n",
    "                 xy = (X[-1, 0] - 1.3, X[-1, 1]),\n",
    "                 xycoords = 'data',\n",
    "                 fontsize = 6.0,\n",
    "                 horizontalalignment = 'left',\n",
    "                 verticalalignment = 'center',\n",
    "                 zorder = 8,\n",
    "                 clip_on = False)\n",
    "\n",
    "    ######################################################################################\n",
    "    # grid options\n",
    "    if grid:\n",
    "        ax1.yaxis.grid(color = 'gray',\n",
    "                       linestyle = '--',\n",
    "                       dashes = [6.0, 3.0],\n",
    "                       alpha = 0.4,\n",
    "                       which = 'major',\n",
    "                       linewidth = 0.5)\n",
    "        ax1.yaxis.grid('on')\n",
    "        ax1.yaxis.grid(color = 'gray',\n",
    "                       linestyle = '--',\n",
    "                       dashes = [6.0, 3.0],\n",
    "                       alpha = 0.4,\n",
    "                       which = 'minor',\n",
    "                       linewidth = 0.5)\n",
    "        ax1.yaxis.grid('on', which = 'minor')\n",
    "    ######################################################################################\n",
    "    # save to file\n",
    "    if datestamp:\n",
    "        outname += '_' + today\n",
    "    if savePDF: # save to file using pdf backend\n",
    "        f.savefig(os.path.join(outdir, outname) + '.pdf', dpi = 300, transparent = True)\n",
    "    if savePNG:\n",
    "        f.savefig(os.path.join(outdir, outname) + '.png', dpi = 600, transparent = True)\n",
    "    ######################################################################################\n",
    "    # close handles\n",
    "    plt.show()\n",
    "    plt.cla()\n",
    "    plt.clf()\n",
    "    plt.close()\n",
    "    return outname"
   ],
   "outputs": [],
   "metadata": {}
  },
  {
   "cell_type": "markdown",
   "source": [
    "**setup data**"
   ],
   "metadata": {}
  },
  {
   "cell_type": "code",
   "execution_count": 38,
   "source": [
    "    # define dummy data\n",
    "    X = np.array([[1, 129475],\n",
    "                  [2, 201450],\n",
    "                  [3, 335525],\n",
    "                  [4, 470825],\n",
    "                  [5, 896275],\n",
    "                  [6, 1029700]])\n",
    "\n",
    "    print(type(X))\n",
    "    print(\"X.shape =\", X.shape)\n"
   ],
   "outputs": [
    {
     "output_type": "stream",
     "name": "stdout",
     "text": [
      "<class 'numpy.ndarray'>\n",
      "X.shape = (6, 2)\n"
     ]
    }
   ],
   "metadata": {}
  },
  {
   "cell_type": "markdown",
   "source": [
    "**call plot function**"
   ],
   "metadata": {}
  },
  {
   "cell_type": "code",
   "execution_count": 39,
   "source": [
    "today = datetime.datetime.now().strftime(\"%Y-%m-%d\")\n",
    "\n",
    "OUTDIR = r'./out'\n",
    "os.makedirs(OUTDIR, exist_ok = True)\n",
    "\n",
    "# plot settings\n",
    "xFormat = (0.55, 6.45, 0.0, 7.5, 1.0, 1.0)\n",
    "yFormat = (0.0, 1.077e6, 0.0, 1.077e6, 2.0e5, 1.0e5)\n",
    "pColors = ['k']\n",
    "\n",
    "# set data label str format functions\n",
    "data_label_str_formatters = [\n",
    "    lambda x: x,\n",
    "    str_format_power_of_ten\n",
    "]\n",
    "\n",
    "for i, data_label_str_formatter in enumerate(data_label_str_formatters):\n",
    "\n",
    "    outname = f'mpl_scatter_plot_with_data_labels_variant_{i}'\n",
    "    outname += '_Python_' + platform.python_version() + \\\n",
    "            '_mpl_' + mpl.__version__\n",
    "\n",
    "    outname = Plot(X = X,\n",
    "                   outname = outname,\n",
    "                   outdir = OUTDIR,\n",
    "                   pColors = pColors,\n",
    "                   xFormat = xFormat,\n",
    "                   yFormat = yFormat,\n",
    "                   str_format_func = data_label_str_formatter,\n",
    "                   savePNG = True)"
   ],
   "outputs": [
    {
     "output_type": "display_data",
     "data": {
      "text/plain": [
       "<Figure size 205.139x182.227 with 1 Axes>"
      ],
      "image/png": "[encoded data removed]"
     },
     "metadata": {
      "needs_background": "light"
     }
    },
    {
     "output_type": "display_data",
     "data": {
      "text/plain": [
       "<Figure size 205.139x182.227 with 1 Axes>"
      ],
      "image/png": "[encoded data removed]"
     },
     "metadata": {
      "needs_background": "light"
     }
    }
   ],
   "metadata": {}
  },
  {
   "cell_type": "code",
   "execution_count": null,
   "source": [],
   "outputs": [],
   "metadata": {}
  }
 ],
 "metadata": {
  "kernelspec": {
   "name": "python3",
   "display_name": "Python 3.7.6 64-bit"
  },
  "language_info": {
   "codemirror_mode": {
    "name": "ipython",
    "version": 3
   },
   "file_extension": ".py",
   "mimetype": "text/x-python",
   "name": "python",
   "nbconvert_exporter": "python",
   "pygments_lexer": "ipython3",
   "version": "3.7.6"
  },
  "interpreter": {
   "hash": "aee8b7b246df8f9039afb4144a1f6fd8d2ca17a180786b69acc140d282b71a49"
  }
 },
 "nbformat": 4,
 "nbformat_minor": 2
}